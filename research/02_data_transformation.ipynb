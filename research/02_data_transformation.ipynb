{
 "cells": [
  {
   "cell_type": "code",
   "execution_count": 1,
   "id": "141f5b23",
   "metadata": {},
   "outputs": [
    {
     "data": {
      "text/plain": [
       "'/Users/omkarthakur/Desktop/Text-Summary/research'"
      ]
     },
     "execution_count": 1,
     "metadata": {},
     "output_type": "execute_result"
    }
   ],
   "source": [
    "import os\n",
    "%pwd"
   ]
  },
  {
   "cell_type": "code",
   "execution_count": 2,
   "id": "7f6036e1",
   "metadata": {},
   "outputs": [],
   "source": [
    "os.chdir(\"../\")"
   ]
  },
  {
   "cell_type": "code",
   "execution_count": 3,
   "id": "d8817810",
   "metadata": {},
   "outputs": [
    {
     "data": {
      "text/plain": [
       "'/Users/omkarthakur/Desktop/Text-Summary'"
      ]
     },
     "execution_count": 3,
     "metadata": {},
     "output_type": "execute_result"
    }
   ],
   "source": [
    "%pwd"
   ]
  },
  {
   "cell_type": "code",
   "execution_count": 4,
   "id": "480ebe30",
   "metadata": {},
   "outputs": [],
   "source": [
    "from dataclasses import dataclass\n",
    "from pathlib import Path\n",
    "\n",
    "@dataclass\n",
    "class DataTransformationConfig:\n",
    "    root_dir: Path\n",
    "    data_path: Path\n",
    "    tokenizer_name: str\n",
    "\n"
   ]
  },
  {
   "cell_type": "markdown",
   "id": "eaa1f547",
   "metadata": {},
   "source": [
    "# Configuration Manager :"
   ]
  },
  {
   "cell_type": "markdown",
   "id": "4aed16b9",
   "metadata": {},
   "source": [
    "# Before that we have to import libraries form the constants to get path and necessary infop"
   ]
  },
  {
   "cell_type": "code",
   "execution_count": 5,
   "id": "e5be9e4a",
   "metadata": {},
   "outputs": [],
   "source": [
    "from src.textsummarization.constants import *\n",
    "from src.textsummarization.utils.common import read_yaml, create_directories\n",
    "\n",
    "class ConfigurationManager:\n",
    "    def __init__(\n",
    "        self,\n",
    "        config_filepath = CONFIG_FILE_PATH,\n",
    "        params_filepath = PARAMS_FILE_PATH\n",
    "    ):\n",
    "        self.config = read_yaml(config_filepath)\n",
    "        self.params = read_yaml(params_filepath)\n",
    "        create_directories([self.config.artifacts_root])\n",
    "\n",
    "    def get_data_transformation_config(self) -> DataTransformationConfig:\n",
    "        config = self.config.data_transformation\n",
    "        create_directories([config.root_dir])\n",
    "\n",
    "        data_transformation_config = DataTransformationConfig(\n",
    "            root_dir=config.root_dir,\n",
    "            data_path=config.data_path,\n",
    "            tokenizer_name=config.tokenizer_name\n",
    "        )\n",
    "        return data_transformation_config"
   ]
  },
  {
   "cell_type": "markdown",
   "id": "ebb34793",
   "metadata": {},
   "source": [
    "# Logging"
   ]
  },
  {
   "cell_type": "code",
   "execution_count": 6,
   "id": "4d5ac7da",
   "metadata": {},
   "outputs": [
    {
     "name": "stderr",
     "output_type": "stream",
     "text": [
      "/Users/omkarthakur/Desktop/Text-Summary/venv/lib/python3.10/site-packages/tqdm/auto.py:21: TqdmWarning: IProgress not found. Please update jupyter and ipywidgets. See https://ipywidgets.readthedocs.io/en/stable/user_install.html\n",
      "  from .autonotebook import tqdm as notebook_tqdm\n"
     ]
    }
   ],
   "source": [
    "import os\n",
    "from src.textsummarization.logging import logger\n",
    "from transformers import AutoTokenizer\n",
    "from datasets import load_dataset, load_from_disk\n",
    "\n"
   ]
  },
  {
   "cell_type": "markdown",
   "id": "10bf4d0d",
   "metadata": {},
   "source": [
    "# Components:"
   ]
  },
  {
   "cell_type": "code",
   "execution_count": 7,
   "id": "4123d246",
   "metadata": {},
   "outputs": [],
   "source": [
    "class DataTransformation:\n",
    "    def __init__(self, config: DataTransformationConfig):\n",
    "        self.config = config\n",
    "        self.tokenizer = AutoTokenizer.from_pretrained(config.tokenizer_name)\n",
    "\n",
    "    #So we have to convert our seq to seq data in this format\n",
    "    def convert_examples_to_features(self, example_batch):\n",
    "        input_embeddings = self.tokenizer( example_batch['dialogue'], max_length=1024, truncation=True)\n",
    "        with self.tokenizer.as_target_tokenizer():\n",
    "            target_embeddings = self.tokenizer(example_batch['summary'], max_length=128, truncation=True)\n",
    "        return{\n",
    "            \"input_ids\": input_embeddings[\"input_ids\"],\n",
    "            \"attention_mask\": input_embeddings[\"attention_mask\"],\n",
    "            \"labels\": target_embeddings[\"input_ids\"]\n",
    "    }\n",
    "    def convert(self):\n",
    "        dataset_samsum = load_from_disk(self.config.data_path)\n",
    "        dataset_samsum_pt = dataset_samsum.map(self.convert_examples_to_features, batched=True)\n",
    "        dataset_samsum_pt.save_to_disk(os.path.join(self.config.root_dir, \"samsum_dataset\"))"
   ]
  },
  {
   "cell_type": "markdown",
   "id": "95f43d2a",
   "metadata": {},
   "source": [
    "# Running:"
   ]
  },
  {
   "cell_type": "code",
   "execution_count": 8,
   "id": "b4b935ab",
   "metadata": {},
   "outputs": [
    {
     "name": "stdout",
     "output_type": "stream",
     "text": [
      "[2025-10-12 03:46:32,400: INFO: common: yaml file: config/config.yaml loaded successfully]\n",
      "[2025-10-12 03:46:32,402: INFO: common: yaml file: params.yaml loaded successfully]\n",
      "[2025-10-12 03:46:32,403: INFO: common: created directory at: artifacts]\n",
      "[2025-10-12 03:46:32,403: INFO: common: created directory at: artifacts/data_transformation]\n",
      "Dataset columns: ['_data_files', '_fingerprint', '_format_columns', '_format_kwargs', '_format_type', '_output_all_columns', '_split']\n",
      "\n",
      "First example:\n",
      "{'_data_files': [{'filename': 'data-00000-of-00001.arrow'}], '_fingerprint': '41234e01aa3519db', '_format_columns': None, '_format_kwargs': {}, '_format_type': None, '_output_all_columns': False, '_split': 'train'}\n"
     ]
    }
   ],
   "source": [
    "# Debug: Check dataset columns\n",
    "from src.textsummarization.config.configuration import ConfigurationManager\n",
    "\n",
    "config = ConfigurationManager()\n",
    "data_transformation_config = config.get_data_transformation_config()\n",
    "\n",
    "dataset_samsum = load_dataset(data_transformation_config.data_path)\n",
    "print(\"Dataset columns:\", dataset_samsum['train'].column_names)\n",
    "print(\"\\nFirst example:\")\n",
    "print(dataset_samsum['train'][0])"
   ]
  },
  {
   "cell_type": "code",
   "execution_count": 9,
   "id": "9508c53d",
   "metadata": {},
   "outputs": [
    {
     "name": "stdout",
     "output_type": "stream",
     "text": [
      "[2025-10-12 03:46:32,448: INFO: common: yaml file: config/config.yaml loaded successfully]\n",
      "[2025-10-12 03:46:32,450: INFO: common: yaml file: params.yaml loaded successfully]\n",
      "[2025-10-12 03:46:32,450: INFO: common: created directory at: artifacts]\n",
      "[2025-10-12 03:46:32,451: INFO: common: created directory at: artifacts/data_transformation]\n"
     ]
    },
    {
     "name": "stderr",
     "output_type": "stream",
     "text": [
      "Map:   0%|          | 0/14732 [00:00<?, ? examples/s]/Users/omkarthakur/Desktop/Text-Summary/venv/lib/python3.10/site-packages/transformers/tokenization_utils_base.py:4034: UserWarning: `as_target_tokenizer` is deprecated and will be removed in v5 of Transformers. You can tokenize your labels by using the argument `text_target` of the regular `__call__` method (either in the same call as your input texts if you use the same keyword arguments, or in a separate call.\n",
      "  warnings.warn(\n",
      "Map: 100%|██████████| 14732/14732 [00:01<00:00, 9328.08 examples/s] \n",
      "Map: 100%|██████████| 819/819 [00:00<00:00, 10448.54 examples/s]\n",
      "Map: 100%|██████████| 818/818 [00:00<00:00, 10490.67 examples/s]\n",
      "Saving the dataset (1/1 shards): 100%|██████████| 14732/14732 [00:00<00:00, 631733.51 examples/s]\n",
      "Saving the dataset (1/1 shards): 100%|██████████| 819/819 [00:00<00:00, 248328.99 examples/s]\n",
      "Saving the dataset (1/1 shards): 100%|██████████| 818/818 [00:00<00:00, 198114.14 examples/s]\n"
     ]
    }
   ],
   "source": [
    "config = ConfigurationManager()\n",
    "data_transformation_config = config.get_data_transformation_config()\n",
    "data_transformation = DataTransformation(data_transformation_config)\n",
    "data_transformation.convert()"
   ]
  }
 ],
 "metadata": {
  "kernelspec": {
   "display_name": "venv",
   "language": "python",
   "name": "python3"
  },
  "language_info": {
   "codemirror_mode": {
    "name": "ipython",
    "version": 3
   },
   "file_extension": ".py",
   "mimetype": "text/x-python",
   "name": "python",
   "nbconvert_exporter": "python",
   "pygments_lexer": "ipython3",
   "version": "3.10.18"
  }
 },
 "nbformat": 4,
 "nbformat_minor": 5
}
